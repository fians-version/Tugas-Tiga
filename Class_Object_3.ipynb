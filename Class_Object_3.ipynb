{
  "cells": [
    {
      "cell_type": "markdown",
      "metadata": {
        "id": "view-in-github",
        "colab_type": "text"
      },
      "source": [
        "<a href=\"https://colab.research.google.com/github/fians-version/Tugas-Tiga/blob/main/Class_Object_3.ipynb\" target=\"_parent\"><img src=\"https://colab.research.google.com/assets/colab-badge.svg\" alt=\"Open In Colab\"/></a>"
      ]
    },
    {
      "cell_type": "code",
      "source": [
        "# Class Variable\n",
        "class Person: # Nama kelas sebaiknya diawali huruf kapital\n",
        "    # The init method or constructor\n",
        "    def __init__(self, rambut, warna):\n",
        "        # Instance Variable\n",
        "        self.rambut = rambut # Menyimpan argumen rambut ke instance variable self.rambut\n",
        "        self.warna = warna   # Menyimpan argumen warna ke instance variable self.warna\n",
        "\n",
        "# Objects\n",
        "Budi = Person(\"Ikal\", \"Hitam\")\n",
        "Michael = Person(\"Lurus\", \"Pirang\") # Membuat objek Michael dengan rambut Lurus dan warna Pirang\n",
        "\n",
        "print('Budi details:')\n",
        "print('Rambut:', Budi.rambut)\n",
        "print('Warna Rambut:', Budi.warna)\n",
        "\n",
        "print('\\nMichael details:')\n",
        "print('Rambut:', Michael.rambut)       # Mengakses atribut rambut dari objek Michael\n",
        "print('Warna Rambut:', Michael.warna) # Mengakses atribut warna dari objek Michael"
      ],
      "metadata": {
        "id": "OuiTvRvIhHc1",
        "outputId": "18fe1ff1-7b5d-48f9-d57b-22677bcdb447",
        "colab": {
          "base_uri": "https://localhost:8080/"
        }
      },
      "execution_count": 2,
      "outputs": [
        {
          "output_type": "stream",
          "name": "stdout",
          "text": [
            "Budi details:\n",
            "Rambut: Ikal\n",
            "Warna Rambut: Hitam\n",
            "\n",
            "Michael details:\n",
            "Rambut: Lurus\n",
            "Warna Rambut: Pirang\n"
          ]
        }
      ]
    }
  ],
  "metadata": {
    "colab": {
      "name": "Welcome To Colab",
      "provenance": [],
      "include_colab_link": true
    },
    "kernelspec": {
      "display_name": "Python 3",
      "name": "python3"
    }
  },
  "nbformat": 4,
  "nbformat_minor": 0
}